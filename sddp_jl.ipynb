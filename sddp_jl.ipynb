{
 "cells": [
  {
   "cell_type": "markdown",
   "metadata": {
    "slideshow": {
     "slide_type": "slide"
    }
   },
   "source": [
    "# SDDP.jl - A Flexible SDDP Library\n",
    "\n",
    "### Unless you can come up with a catchy name\n",
    "+ JAST.jl (Just Another SDDP Toolbox)\n",
    "+ DOASA.jl (Dynamic Outer Approximation Sampling Algorithm)\n",
    "+ JEMSO.jl (Julia Environment for Multi-stage Stochastic Optimisation)\n",
    "+ Kokako.jl [a NZ bird](http://nzbirdsonline.org.nz/species/north-island-kokako)\n",
    "\n",
    "Oscar Dowson, P.h.D. Candidate, The University of Auckland\n",
    "\n",
    "\n",
    "[odow003@aucklanduni.ac.nz](mailto: odow003@aucklanduni.ac.nz) [@odow](https://github.com/odow)\n",
    "\n",
    "\n"
   ]
  },
  {
   "cell_type": "markdown",
   "metadata": {
    "slideshow": {
     "slide_type": "slide"
    }
   },
   "source": [
    "# Q: Why another SDDP toolbox?\n",
    "\n",
    "One year ago (ish) there weren't any! Now there are at least four!\n",
    "\n",
    "1. [FAST (Finally An SDDP Toolbox)](https://github.com/leopoldcambier/FAST) Released on Github a year ago although around previously\n",
    "2. [StochDynamicProgramming.jl](https://github.com/JuliaOpt/StochDynamicProgramming.jl)\n",
    "3. [StochasticDualDynamicProgramming.jl](https://github.com/blegat/StochasticDualDynamicProgramming.jl)\n",
    "4. [SDDP.jl](https://github.com/odow/SDDP.jl)"
   ]
  },
  {
   "cell_type": "markdown",
   "metadata": {
    "slideshow": {
     "slide_type": "subslide"
    }
   },
   "source": [
    "# A: I'm a simple minded Engineer not a Mathematician\n",
    "\n",
    "I think in terms of real variables (flow in = flow out), rather than linear algebra ($x_t = x_{t-1}$).\n",
    "\n",
    "### What this isn't\n",
    "\n",
    "+ It isn't able to switch between SDP and SDDP\n",
    "+ It isn't a $x, u, w$ matrix approach\n",
    "\n",
    "### Warning\n",
    "\n",
    "I may play a little fast and loose with \"proper\" math notation and definitions..."
   ]
  },
  {
   "cell_type": "markdown",
   "metadata": {
    "slideshow": {
     "slide_type": "slide"
    }
   },
   "source": [
    "# What are we talking about...\n",
    "\n",
    "+ Multistage stochastic linear program in discrete time\n",
    "+ RHS uncertainty (scenarios)\n",
    "+ Markov uncertainty (see [Philpott and de Matos](http://www.epoc.org.nz/papers/PhilpottDeMatosEJORv4.pdf))\n",
    "+ Risk Neutral (for now)\n"
   ]
  },
  {
   "cell_type": "markdown",
   "metadata": {
    "slideshow": {
     "slide_type": "subslide"
    }
   },
   "source": [
    "# What are we talking about...\n",
    "\n",
    "Let us consider a stochastic linear program with $T$ stages, denoted $t=1,2,\\dots,T$. We shall also consider the markov process $W_t,\\quad t=1,2,\\dots,T$, with transition matrices $P^{(t)}$. We shall denote the realisations of $W_t$ by the integers $i=1,2,\\dots,S_t$. $P^{(t)}$ has size $S_t \\times S_{t+1}$.\n",
    "\n",
    "In each stage and markov state of our stochastic linear program, there is a random right-hand-side vector $b_t(\\omega_{ti})\\in \\mathbb{R}^m$ with a finite number of realisations defined by $\\omega_{ti} \\in \\Omega_{ti}$ supported with probability $\\phi_{ti}$.\n",
    "\n",
    "If we assume that we begin in markov state $I$ in stage 1, in terms of the realisation of $\\omega_{1I} \\in \\Omega_{1I}$, the first stage problem can be written as\n",
    "\n",
    "$$\n",
    "\\begin{array}{r c c l r}\n",
    "z(\\omega_{1I}) & = & \\text{min} & c_1^\\top x_1 + \\sum\\limits_{j=1}^{S_{t+1}} P^{(t)}_{Ij}\\mathbb{E}\\left[Q_{2,j}(x_1, \\omega_{2,j}) | W_{2} = j\\right]&\\\\\n",
    "&&\\text{s.t.}& A_1x_{1} = b_1(\\omega_{1I})&\\\\\n",
    "&&&x_1 \\ge 0.\n",
    "\\end{array}\n",
    "$$\n",
    "\n",
    "where $x_1\\in \\mathbb{R}^n$ is the first stage decision, $c_1 \\in \\mathbb{R}^n$ is a cost vector, $A_1$ is a $m\\times n$ matrix and $b_1\\in \\mathbb{R}^m$. The expected cost of the stochastic linear program is therefore $\\mathbb{E}[z(\\omega_{1I})]$."
   ]
  },
  {
   "cell_type": "markdown",
   "metadata": {
    "slideshow": {
     "slide_type": "subslide"
    }
   },
   "source": [
    "## Subsequent stages\n",
    "\n",
    "We denote $Q_{ti}(x_{t-1}, \\omega_{ti})$ as the future costs associated with decision $x_{t-1}$ and realisation $\\omega_{ti} \\in \\Omega_{ti}$. This can be solved as\n",
    "\n",
    "$$\n",
    "\\begin{array}{r c c l r}\n",
    "Q_{ti}(x_{t-1}, \\omega_{ti}) & = & \\text{min} & c_t^\\top x_t + \\sum\\limits_{j=1}^{S_{t+1}} P^{(t)}_{ij}\\mathbb{E}\\left[Q_{t+1,j}(x_t, \\omega_{t+1,j}) | W_{t+1} = j\\right]&\\\\\n",
    "&&\\text{s.t.}& A_tx_{t} = b_t(\\omega_{ti}) - E_tx_{t-1}& [\\pi_{t}(\\omega_{ti})]\\\\\n",
    "&&&x_t \\ge 0.\n",
    "\\end{array}\n",
    "$$\n",
    "where $x_t\\in \\mathbb{R}^n$ is the decision in stage $t$, $c_t \\in \\mathbb{R}^n$ its cost, $A_t$ and $E_t$ denote $m\\times n$ matrices. $\\pi_{ti}(\\omega_{ti})$ are the dual variables of the constraints. In the last stage, we assume that $\\mathbb{E}[Q_{T+1,i}(x_T, \\omega_{T+1,i})]=0$."
   ]
  },
  {
   "cell_type": "markdown",
   "metadata": {
    "slideshow": {
     "slide_type": "subslide"
    }
   },
   "source": [
    "### Where this might differ\n",
    "\n",
    "- If I record 6 different states (initial, + five more), there are five stages, not six;\n",
    "- Wait-and-See in a stage. You take an action today after realising the uncertainty;\n",
    "- Each stage is set-up as a linear programme.\n",
    "\n",
    "We call the linear programme that defines a stage a *subproblem*."
   ]
  },
  {
   "cell_type": "code",
   "execution_count": 1,
   "metadata": {
    "slideshow": {
     "slide_type": "slide"
    }
   },
   "outputs": [
    {
     "name": "stderr",
     "output_type": "stream",
     "text": [
      "\u001b[1m\u001b[36mINFO: \u001b[39m\u001b[22m\u001b[36mRecompiling stale cache file C:\\Users\\odow003\\.julia\\lib\\v0.6\\SDDP.ji for module SDDP.\n",
      "\u001b[39m"
     ]
    }
   ],
   "source": [
    "# To get started we need to clone SDDP.jl\n",
    "# Pkg.clone(\"https://github.com/odow/SDDP.jl\")\n",
    "\n",
    "# load some packages\n",
    "using SDDP, JuMP, Clp"
   ]
  },
  {
   "cell_type": "markdown",
   "metadata": {
    "slideshow": {
     "slide_type": "slide"
    }
   },
   "source": [
    "# The stock example from StochDynamicProgramming.jl\n",
    "\n",
    "Links to [StochDynamicPrograming.jl](https://github.com/JuliaOpt/StochDynamicProgramming.jl/blob/master/examples/stock-example.jl) and [SDDP.jl](https://github.com/odow/SDDP.jl/blob/master/examples/StochDynamicProgramming.jl/stock-example.jl) versions.\n",
    "\n",
    "1. Sense\n",
    "    + Minimising\n",
    "2. Stages\n",
    "    + 5 stages ($t = 1,2,3,4,5$)\n",
    "3. States\n",
    "    + 1 State $x_t \\in [0, 1]$ (initial state $x_0 = 0.5$)\n",
    "4. Controls\n",
    "    + 1 control $u_t \\in [0, 0.5]$\n",
    "5. Noises\n",
    "    + 10 stagewise independent noises: $\\omega_t \\in [0, 0.0333..., 0.0666..., ..., 0.3]$ \n",
    "6. Dynamics\n",
    "    + linear dynamics $x_t == x_{t-1} + u_t - \\omega_t $\n",
    "7. Stage Objective\n",
    "    + linear objective $(\\sin(3t) - 1) \cdot u_t$"
   ]
  },
  {
   "cell_type": "markdown",
   "metadata": {
    "slideshow": {
     "slide_type": "subslide"
    }
   },
   "source": [
    "\n",
    "$$\n",
    "\\begin{array}{r l}\n",
    "\\min\\limits_{u_t} & (sin(3t) - 1)u_t + \\theta_{t+1}\\\\\n",
    "s.t. & x_t = x_{t-1} + u_t - \\omega_t \\\\\n",
    "& x_t \\in [0, 1] \\\\\n",
    "& u_t \\in [0, 0.5] \\\\\n",
    "& x_0 = 0.5\n",
    "\\end{array}\n",
    "$$"
   ]
  },
  {
   "cell_type": "markdown",
   "metadata": {
    "slideshow": {
     "slide_type": "slide"
    }
   },
   "source": [
    "# Syntax for creating a new SDDPModel\n",
    "We define 1. and 2. in the constructor using keyword arguments.\n",
    "```julia\n",
    "m = SDDPModel(\n",
    "                  sense = :Min,          # :Max or :Min?\n",
    "                 stages = 5,             # Number of stages\n",
    "                 solver = ClpSolver(),   # AbstractMathProgSolver\n",
    "           risk_measure = Expectation(), # plain old expectation\n",
    "        objective_bound = -2             # Valid lower bound (since we're minimising)\n",
    "                                        ) do sp, t\n",
    "                                        # these can be called anything. i.e.\n",
    "                                        # ) do subproblem_jump_model, stage_index\n",
    "                                        # the first is a new JuMP Model for the subproblem, the second is an\n",
    "                                        # index from 1,2,...,5\n",
    "                                \n",
    "    # ... subproblem definition goes here ...\n",
    "    \n",
    "end\n",
    "```"
   ]
  },
  {
   "cell_type": "markdown",
   "metadata": {
    "slideshow": {
     "slide_type": "slide"
    }
   },
   "source": [
    "# Defining the subproblem\n",
    "\n",
    "We still need to define the last five things:\n",
    "\n",
    "    3. States\n",
    "    4. Controls\n",
    "    5. Noises\n",
    "    6. Dynamics\n",
    "    7. Objective\n",
    "\n",
    "We're going to use both `sp` and `t` from above."
   ]
  },
  {
   "cell_type": "markdown",
   "metadata": {
    "slideshow": {
     "slide_type": "slide"
    }
   },
   "source": [
    "# 3. Defining a state\n",
    "\n",
    "A stage has an incoming, and an outgoing state variable. Behind the scenes we'll take care of matching them up between stages.\n",
    "\n",
    "To define a new state variable use the `@state` macro.\n",
    "```julia\n",
    "@state(sp, lb <= outgoing <= ub, incoming == initial value)\n",
    "```\n",
    "\n",
    "First argument is the subproblem variable from the constructor, second argument is the outgoing variable (any feasible JuMP variable definition), third argument is the incoming variable (`symbol == initial value`).\n",
    "\n"
   ]
  },
  {
   "cell_type": "markdown",
   "metadata": {
    "slideshow": {
     "slide_type": "subslide"
    }
   },
   "source": [
    "From above, we have one state $x_t\\in[0,1],\\quad x_0 = 0.5$\n",
    "```julia\n",
    "@state(sp, 0 <= x <= 1, x0 == 0.5)\n",
    "```\n",
    "The `x0` is the incoming variable in each stage. It will only be forced to `0.5` in the first stage. The syntax is just for convinence."
   ]
  },
  {
   "cell_type": "markdown",
   "metadata": {
    "slideshow": {
     "slide_type": "subslide"
    }
   },
   "source": [
    "We could also create three state variables\n",
    "$x^i_t \\in [0, \\infty),\\quad x^i_0 = i, \\quad i=\\{1,2,3\\}\\quad t=\\{1,2,\\dots,T\\}$\n",
    "```julia\n",
    "@state(sp, x[i=1:3] >= 0, x0==i)\n",
    "```\n",
    "or do fancier things like\n",
    "```julia\n",
    "RERVOIRS = [:taupo, :benmore]\n",
    "INITIAL_STORAGE = Dict(:taupo => 1, :benmore => 2)\n",
    "\n",
    "@state(sp, x[r=RESERVOIRS] >= 0, x0==INITIAL_STORAGE[r])\n",
    "```\n"
   ]
  },
  {
   "cell_type": "markdown",
   "metadata": {
    "slideshow": {
     "slide_type": "subslide"
    }
   },
   "source": [
    "# Updating our model with the new state\n",
    "```julia\n",
    "m = SDDPModel(\n",
    "                  sense = :Min,          \n",
    "                 stages = 5,             \n",
    "                 solver = ClpSolver(),   \n",
    "           risk_measure = Expectation(), \n",
    "        objective_bound = -2             \n",
    "                                        ) do sp, t\n",
    "    \n",
    "    @state(sp, 0 <= x <= 1, x0 == 0.5)\n",
    "    \n",
    "    # ... subproblem definition goes here ...\n",
    "    \n",
    "end\n",
    "```"
   ]
  },
  {
   "cell_type": "markdown",
   "metadata": {
    "slideshow": {
     "slide_type": "slide"
    }
   },
   "source": [
    "# 4. Defining a control\n",
    "\n",
    "Controls are just JuMP variables. Nothing special.\n",
    "\n",
    "From above $u_t \\in [0, 0.5]$\n",
    "```julia\n",
    "@variable(sp, 0 <= control <= 0.5)\n",
    "```"
   ]
  },
  {
   "cell_type": "markdown",
   "metadata": {
    "slideshow": {
     "slide_type": "subslide"
    }
   },
   "source": [
    "# Updating our model with the new control\n",
    "\n",
    "```julia\n",
    "m = SDDPModel(\n",
    "                  sense = :Min,          \n",
    "                 stages = 5,             \n",
    "                 solver = ClpSolver(),   \n",
    "           risk_measure = Expectation(), \n",
    "        objective_bound = -2             \n",
    "                                        ) do sp, t\n",
    "    \n",
    "    # the state\n",
    "    @state(sp, 0 <= x <= 1, x0 == 0.5)\n",
    "    \n",
    "    # the control\n",
    "    @variable(sp, 0 <= u <= 0.5)\n",
    "    \n",
    "    # ... subproblem definition goes here ...\n",
    "    \n",
    "end\n",
    "```"
   ]
  },
  {
   "cell_type": "markdown",
   "metadata": {
    "slideshow": {
     "slide_type": "slide"
    }
   },
   "source": [
    "# 5. Defining a Noise\n",
    "\n",
    "Still a little messy. Not overly happy with it...\n",
    "\n",
    "A noise has three things:\n",
    "\n",
    "1. A constraint\n",
    "2. A set of RHS values\n",
    "3. A probability distribution\n",
    "\n",
    "Julia code is\n",
    "```julia\n",
    "@scenario(sp, name = RHS Values, constraint)\n",
    "\n",
    "setscenarioprobability!(sp, probability distribution)\n",
    "```"
   ]
  },
  {
   "cell_type": "markdown",
   "metadata": {
    "slideshow": {
     "slide_type": "subslide"
    }
   },
   "source": [
    "### From above we have\n",
    "\n",
    "5 - Noises\n",
    "+ 10 stagewise independent noises: $\\omega_t \\in [0, 0.0333..., 0.0666..., ..., 0.3]$ \n",
    "\n",
    "6 - Dynamics\n",
    "+ linear dynamics $x_t == x_{t-1} + u_t - \\omega_t $\n",
    "    \n",
    "\n",
    "```julia\n",
    "@scenario(sp, omega = linspace(0, 0.3, 10), x == x0 + u - omega)\n",
    "\n",
    "# set uniform probability (but its the default so you don't have to\n",
    "setscenarioprobability!(sp, fill(0.1, 10))\n",
    "```"
   ]
  },
  {
   "cell_type": "markdown",
   "metadata": {
    "slideshow": {
     "slide_type": "subslide"
    }
   },
   "source": [
    "# Updating out model with the new noise\n",
    "```julia\n",
    "m = SDDPModel(\n",
    "                  sense = :Min,          \n",
    "                 stages = 5,             \n",
    "                 solver = ClpSolver(),   \n",
    "           risk_measure = Expectation(), \n",
    "        objective_bound = -2             \n",
    "                                        ) do sp, t\n",
    "    \n",
    "    # the state\n",
    "    @state(sp, 0 <= x <= 1, x0 == 0.5)\n",
    "    \n",
    "    # the control\n",
    "    @variable(sp, 0 <= u <= 0.5)\n",
    "    \n",
    "    # the noise (and dynamics)\n",
    "    @scenario(sp, omega = linspace(0, 0.3, 10), x == x0 + u - omega)\n",
    "    \n",
    "    # ... subproblem definition goes here ...\n",
    "    \n",
    "end\n",
    "```"
   ]
  },
  {
   "cell_type": "markdown",
   "metadata": {
    "slideshow": {
     "slide_type": "slide"
    }
   },
   "source": [
    "# 6. Defining dynamics\n",
    "\n",
    "These can just be any JuMP constraints\n",
    "\n",
    "```julia\n",
    "@constraint(sp, x + u <= 1.5)\n",
    "```"
   ]
  },
  {
   "cell_type": "markdown",
   "metadata": {
    "slideshow": {
     "slide_type": "slide"
    }
   },
   "source": [
    "# 7. Defining the Stage Objective\n",
    "\n",
    "We only care about defining the stage objective. The future costs get handled automatically.\n",
    "\n",
    "```julia\n",
    "stageobjective!(sp, AffExpr of Objective)\n",
    "```\n",
    "\n",
    "We can use the index `t` to change coefficients between subproblems so our objective is\n",
    "```julia\n",
    "stageobjective!(sp, (sin(3 * t) - 1) * u)\n",
    "```"
   ]
  },
  {
   "cell_type": "code",
   "execution_count": 2,
   "metadata": {
    "slideshow": {
     "slide_type": "slide"
    }
   },
   "outputs": [
    {
     "name": "stdout",
     "output_type": "stream",
     "text": [
      "SDDP.SDDPModel{SDDP.DefaultValueFunction{SDDP.DefaultCutOracle}}\n"
     ]
    }
   ],
   "source": [
    "m = SDDPModel(\n",
    "                  sense = :Min,          \n",
    "                 stages = 5,             \n",
    "                 solver = ClpSolver(),   \n",
    "           risk_measure = Expectation(), \n",
    "        objective_bound = -2             \n",
    "                                        ) do sp, t\n",
    "    \n",
    "    # the state\n",
    "    @state(sp, 0 <= x <= 1, x0 == 0.5)\n",
    "    \n",
    "    # the control\n",
    "    @variable(sp, 0 <= u <= 0.5)\n",
    "    \n",
    "    # the noise (and dynamics)\n",
    "    @scenario(sp, omega = linspace(0, 0.3, 10), x == x0 + u - omega)\n",
    "    \n",
    "    # the objective\n",
    "    stageobjective!(sp, (sin(3 * t) - 1) * u)\n",
    "    \n",
    "end\n",
    "println(typeof(m))"
   ]
  },
  {
   "cell_type": "markdown",
   "metadata": {
    "slideshow": {
     "slide_type": "subslide"
    }
   },
   "source": [
    "### Compare the Julia code\n",
    "```julia\n",
    "m = SDDPModel(\n",
    "                  sense = :Min,          \n",
    "                 stages = 5,             \n",
    "                 solver = ClpSolver(),   \n",
    "           risk_measure = Expectation(), \n",
    "        objective_bound = -2             \n",
    "                                        ) do sp, t\n",
    "    @state(sp,    0 <= x <= 1, x0 == 0.5)    \n",
    "    @variable(sp, 0 <= u <= 0.5)\n",
    "    @scenario(sp, omega = linspace(0, 0.3, 10), x == x0 + u - omega)\n",
    "    stageobjective!(sp, (sin(3t) - 1)*u ) \n",
    "end\n",
    "```\n",
    "### to the mathematical subproblem\n",
    "$\n",
    "\\begin{array}{r l}\n",
    "\\min\\limits_{u_t} & (sin(3t) - 1)u_t + \\theta_{t+1}\\\\\n",
    "s.t. & x_t = x_{t-1} + u_t - \\omega_t \\\\\n",
    "& x_t \\in [0, 1] \\\\\n",
    "& u_t \\in [0, 0.5] \\\\\n",
    "& x_0 = 0.5\n",
    "\\end{array}\n",
    "$"
   ]
  },
  {
   "cell_type": "markdown",
   "metadata": {
    "slideshow": {
     "slide_type": "slide"
    }
   },
   "source": [
    "# Solve options\n",
    "\n",
    "For a full list run `julia>? SDDP.solve`\n",
    "\n",
    "```julia\n",
    "status = solve(m,\n",
    "    max_iterations = 10,\n",
    "    time_limit     = 600, \n",
    "    simulation     = MonteCarloSimulation(\n",
    "                        frequency = 5,\n",
    "                        min       = 10,\n",
    "                        step      = 10,\n",
    "                        max       = 100,\n",
    "                        terminate = false\n",
    "                    )\n",
    ")\n",
    "```"
   ]
  },
  {
   "cell_type": "code",
   "execution_count": 21,
   "metadata": {
    "slideshow": {
     "slide_type": "slide"
    }
   },
   "outputs": [
    {
     "name": "stdout",
     "output_type": "stream",
     "text": [
      "-------------------------------------------------------------------------------\n",
      "                      SDDP Solver. © Oscar Dowson, 2017.\n",
      "-------------------------------------------------------------------------------\n",
      "    Solver:\n",
      "        Serial solver\n",
      "    Model:\n",
      "        Stages:         5\n",
      "        States:         1\n",
      "        Subproblems:    5\n",
      "        Value Function: Default\n",
      "-------------------------------------------------------------------------------\n",
      "              Objective              |  Cut  Passes    Simulations   Total    \n",
      "      Expected        Bound   % Gap  |   #     Time     #    Time    Time     \n",
      "-------------------------------------------------------------------------------\n",
      "       -1.591         -1.471         |     1    0.0      0    0.0    0.0 \n",
      "       -1.365         -1.471         |     2    0.0      0    0.0    0.0 \n",
      "       -1.518         -1.471         |     3    0.0      0    0.0    0.0 \n",
      "       -1.624         -1.471         |     4    0.1      0    0.0    0.1 \n",
      "  -1.569    -1.479    -1.471   -6.7  |     5    0.1     20    0.0    0.1 \n",
      "       -1.537         -1.471         |     6    0.1     20    0.0    0.1 \n",
      "       -1.387         -1.471         |     7    0.1     20    0.0    0.1 \n",
      "       -1.403         -1.471         |     8    0.1     20    0.0    0.1 \n",
      "       -1.567         -1.471         |     9    0.1     20    0.0    0.1 \n",
      "  -1.490    -1.423    -1.471   -1.3  |    10    0.1    120    0.1    0.2 \n",
      "       -1.347         -1.471         |    11    0.1    120    0.1    0.2 \n",
      "       -1.456         -1.471         |    12    0.1    120    0.1    0.2 \n",
      "       -1.525         -1.471         |    13    0.1    120    0.1    0.2 \n",
      "       -1.801         -1.471         |    14    0.1    120    0.1    0.3 \n",
      "  -1.524    -1.453    -1.471   -3.6  |    15    0.2    220    0.2    0.3 \n",
      "       -1.746         -1.471         |    16    0.2    220    0.2    0.4 \n",
      "       -1.282         -1.471         |    17    0.2    220    0.2    0.4 \n",
      "       -1.285         -1.471         |    18    0.2    220    0.2    0.4 \n",
      "       -1.236         -1.471         |    19    0.2    220    0.2    0.4 \n",
      "  -1.505    -1.435    -1.471   -2.3  |    20    0.2    320    0.3    0.5 \n",
      "-------------------------------------------------------------------------------\n",
      "    Statistics:\n",
      "        Iterations:         20\n",
      "        Termination Status: max_iterations\n",
      "-------------------------------------------------------------------------------\n",
      "Final bound is -1.4710749176074305 (Expected -1.471).\n"
     ]
    }
   ],
   "source": [
    "srand(1111)\n",
    "status = solve(m,\n",
    "    max_iterations = 20,\n",
    "    time_limit     = 600, \n",
    "    simulation     = MonteCarloSimulation(\n",
    "                        frequency = 5,\n",
    "                        min       = 10,\n",
    "                        step      = 10,\n",
    "                        max       = 100,\n",
    "                        termination = false\n",
    "                    ),\n",
    "    # print_level=0\n",
    ")\n",
    "\n",
    "# Check bound is correct\n",
    "println(\"Final bound is $(SDDP.getbound(m)) (Expected -1.471).\")"
   ]
  },
  {
   "cell_type": "markdown",
   "metadata": {
    "slideshow": {
     "slide_type": "subslide"
    }
   },
   "source": [
    "    -------------------------------------------------------------------------------\n",
    "                          SDDP Solver. © Oscar Dowson, 2017.\n",
    "    -------------------------------------------------------------------------------\n",
    "        Solver:\n",
    "            Serial solver\n",
    "        Model:\n",
    "            Stages:         5\n",
    "            States:         1\n",
    "            Subproblems:    5\n",
    "            Value Function: Default\n",
    "    -------------------------------------------------------------------------------\n",
    "                  Objective              |  Cut  Passes    Simulations   Total    \n",
    "          Expected        Bound   % Gap  |   #     Time     #    Time    Time     \n",
    "    -------------------------------------------------------------------------------\n",
    "           -1.591         -1.471         |     1    0.0      0    0.0    0.0 \n",
    "           -1.365         -1.471         |     2    0.0      0    0.0    0.0 \n",
    "           -1.518         -1.471         |     3    0.0      0    0.0    0.0 \n",
    "           -1.624         -1.471         |     4    0.0      0    0.0    0.0 \n",
    "      -1.569    -1.479    -1.471   -6.7  |     5    0.0     20    0.0    0.1 \n",
    "           -1.537         -1.471         |     6    0.0     20    0.0    0.1 \n",
    "           -1.387         -1.471         |     7    0.1     20    0.0    0.1 \n",
    "           -1.403         -1.471         |     8    0.1     20    0.0    0.1 \n",
    "           -1.567         -1.471         |     9    0.1     20    0.0    0.1 \n",
    "      -1.491    -1.424    -1.471   -1.4  |    10    0.1    120    0.1    0.2 \n",
    "           -1.347         -1.471         |    11    0.1    120    0.1    0.2 \n",
    "           -1.456         -1.471         |    12    0.1    120    0.1    0.2 \n",
    "           -1.525         -1.471         |    13    0.1    120    0.1    0.2 \n",
    "           -1.801         -1.471         |    14    0.1    120    0.1    0.2 \n",
    "      -1.524    -1.453    -1.471   -3.6  |    15    0.1    220    0.2    0.3 \n",
    "           -1.746         -1.471         |    16    0.1    220    0.2    0.3 \n",
    "           -1.276         -1.471         |    17    0.1    220    0.2    0.3 \n",
    "           -1.285         -1.471         |    18    0.1    220    0.2    0.3 \n",
    "           -1.236         -1.471         |    19    0.1    220    0.2    0.3 \n",
    "      -1.505    -1.435    -1.471   -2.3  |    20    0.2    320    0.2    0.4 \n",
    "    -------------------------------------------------------------------------------\n",
    "        Statistics:\n",
    "            Iterations:         20\n",
    "            Termination Status: max_iterations\n",
    "    -------------------------------------------------------------------------------\n",
    "    Final bound is -1.4710749176074305 (Expected -1.471)."
   ]
  },
  {
   "cell_type": "code",
   "execution_count": 7,
   "metadata": {
    "slideshow": {
     "slide_type": "slide"
    }
   },
   "outputs": [
    {
     "name": "stdout",
     "output_type": "stream",
     "text": [
      "Mean of simulation objectives is -1.4724038703258735\n"
     ]
    }
   ],
   "source": [
    "simulation = simulate(m, 1000, [:x, :u])\n",
    "println(\"Mean of simulation objectives is $(mean(r[:objective] for r in simulation))\")"
   ]
  },
  {
   "cell_type": "code",
   "execution_count": 33,
   "metadata": {
    "collapsed": true,
    "slideshow": {
     "slide_type": "slide"
    }
   },
   "outputs": [],
   "source": [
    "@visualise(simulation, i, t, begin\n",
    "    simulation[i][:x][t], (title=\"State\")\n",
    "    simulation[i][:u][t], (title=\"Control\")\n",
    "    simulation[i][:scenario][t], (title=\"Scenario\")\n",
    "    simulation[i][:stageobjective][t], (title=\"Objective\", cumulative=true)\n",
    "end)"
   ]
  },
  {
   "cell_type": "markdown",
   "metadata": {
    "slideshow": {
     "slide_type": "subslide"
    }
   },
   "source": [
    "[Open Visualisation](https://odow.github.io/talks/assets/stock-example-visualisation.html)"
   ]
  },
  {
   "cell_type": "markdown",
   "metadata": {
    "slideshow": {
     "slide_type": "slide"
    }
   },
   "source": [
    "# Average Value at Risk\n",
    "\n",
    "```julia\n",
    "risk_measure = NestedAVaR(lambda = 0.5, beta = 0.5)\n",
    "```\n",
    "\n",
    "A risk measure that is a convex combination of Expectation and Average Value @ Risk\n",
    "(also called Conditional Value @ Risk).\n",
    "\n",
    "    lambda * E[x] + (1 - lambda) * AV@R(1-beta)[x]\n",
    "\n",
    "### Keyword Arguments\n",
    "\n",
    " * `lambda`\n",
    " \n",
    "Convex weight on the expectation (`(1-lambda)` weight is put on the AV@R component.\n",
    "Inreasing values of `lambda` are less risk averse (more weight on expecattion)\n",
    "\n",
    " * `beta`\n",
    " \n",
    " The quantile at which to calculate the Average Value @ Risk. Increasing values\n",
    " of `beta` are less risk averse. If `beta=0`, then the AV@R component is the\n",
    " worst case risk measure.\n",
    "\n"
   ]
  },
  {
   "cell_type": "code",
   "execution_count": 11,
   "metadata": {
    "slideshow": {
     "slide_type": "subslide"
    }
   },
   "outputs": [
    {
     "name": "stdout",
     "output_type": "stream",
     "text": [
      "SDDP.SDDPModel{SDDP.DefaultValueFunction{SDDP.DefaultCutOracle}}\n"
     ]
    }
   ],
   "source": [
    "m_risk = SDDPModel(\n",
    "                  sense = :Min,          \n",
    "                 stages = 5,             \n",
    "                 solver = ClpSolver(),\n",
    "           # risk_measure = Expectation(), \n",
    "           risk_measure = NestedAVaR(lambda=0.5, beta=0.5), \n",
    "        objective_bound = -2             \n",
    "                                        ) do sp, t\n",
    "    \n",
    "    # the state\n",
    "    @state(sp, 0 <= x <= 1, x0 == 0.5)\n",
    "    \n",
    "    # the control\n",
    "    @variable(sp, 0 <= u <= 0.5)\n",
    "    \n",
    "    # the noise (and dynamics)\n",
    "    @scenario(sp, omega = linspace(0, 0.3, 10), x == x0 + u - omega)\n",
    "    \n",
    "    # the objective\n",
    "    stageobjective!(sp, (sin(3 * t) - 1) * u)\n",
    "    \n",
    "end\n",
    "println(typeof(m_risk))"
   ]
  },
  {
   "cell_type": "code",
   "execution_count": 12,
   "metadata": {
    "slideshow": {
     "slide_type": "subslide"
    }
   },
   "outputs": [
    {
     "name": "stdout",
     "output_type": "stream",
     "text": [
      "Final bound is -1.3463746517409778 (Expectation bound was -1.471).\n"
     ]
    }
   ],
   "source": [
    "srand(1111)\n",
    "status = solve(m_risk,\n",
    "    max_iterations = 20,\n",
    "    time_limit     = 600, \n",
    "    simulation     = MonteCarloSimulation(\n",
    "                        frequency = 5,\n",
    "                        min       = 10,\n",
    "                        step      = 10,\n",
    "                        max       = 100,\n",
    "                        termination = false\n",
    "                    ),\n",
    "    print_level=0\n",
    ")\n",
    "\n",
    "# Check bound is correct\n",
    "println(\"Final bound is $(SDDP.getbound(m_risk)) (Expectation bound was -1.471).\")"
   ]
  },
  {
   "cell_type": "markdown",
   "metadata": {
    "slideshow": {
     "slide_type": "subslide"
    }
   },
   "source": [
    "    -------------------------------------------------------------------------------\n",
    "                          SDDP Solver. © Oscar Dowson, 2017.\n",
    "    -------------------------------------------------------------------------------\n",
    "        Solver:\n",
    "            Serial solver\n",
    "        Model:\n",
    "            Stages:         5\n",
    "            States:         1\n",
    "            Subproblems:    5\n",
    "            Value Function: Default\n",
    "    -------------------------------------------------------------------------------\n",
    "                  Objective              |  Cut  Passes    Simulations   Total    \n",
    "          Expected        Bound   % Gap  |   #     Time     #    Time    Time     \n",
    "    -------------------------------------------------------------------------------\n",
    "           -1.359         -1.536         |     1    0.1      0    0.0    0.1 \n",
    "           -0.943         -1.419         |     2    0.2      0    0.0    0.2 \n",
    "           -1.512         -1.379         |     3    0.2      0    0.0    0.2 \n",
    "           -1.596         -1.365         |     4    0.2      0    0.0    0.2 \n",
    "      -1.555    -1.456    -1.363  -14.1  |     5    0.2     10    0.0    0.2 \n",
    "           -1.564         -1.362         |     6    0.2     10    0.0    0.2 \n",
    "           -1.533         -1.357         |     7    0.2     10    0.0    0.2 \n",
    "           -1.525         -1.354         |     8    0.2     10    0.0    0.2 \n",
    "           -1.689         -1.353         |     9    0.2     10    0.0    0.2 \n",
    "      -1.549    -1.436    -1.351  -14.6  |    10    0.2     20    0.0    0.2 \n",
    "           -1.603         -1.351         |    11    0.2     20    0.0    0.2 \n",
    "           -1.622         -1.350         |    12    0.2     20    0.0    0.2 \n",
    "           -1.482         -1.349         |    13    0.2     20    0.0    0.2 \n",
    "           -1.327         -1.349         |    14    0.2     20    0.0    0.2 \n",
    "      -1.571    -1.381    -1.348  -16.5  |    15    0.2     30    0.0    0.2 \n",
    "           -1.400         -1.347         |    16    0.2     30    0.0    0.2 \n",
    "           -1.400         -1.347         |    17    0.2     30    0.0    0.3 \n",
    "           -1.611         -1.347         |    18    0.2     30    0.0    0.3 \n",
    "           -1.415         -1.347         |    19    0.2     30    0.0    0.3 \n",
    "      -1.480    -1.382    -1.346   -9.9  |    20    0.2     60    0.0    0.3 \n",
    "    -------------------------------------------------------------------------------\n",
    "        Statistics:\n",
    "            Iterations:         20\n",
    "            Termination Status: max_iterations\n",
    "    -------------------------------------------------------------------------------\n",
    "    Final bound is -1.3463746517409778 (Expectation bound was -1.471)."
   ]
  },
  {
   "cell_type": "markdown",
   "metadata": {
    "slideshow": {
     "slide_type": "slide"
    }
   },
   "source": [
    "# De Matos Cut Selection\n",
    "\n",
    "Previously called Level One Cut Selection (ref [de Matos and Philpott](http:www.epoc.org.nz/papers/Vitor2015.pdf)). I'm trying to change the name.\n",
    "\n",
    "```julia\n",
    "m_risk = SDDPModel(\n",
    "                  sense = :Min,          \n",
    "                 stages = 5,             \n",
    "                 solver = ClpSolver(),\n",
    "           risk_measure = Expectation(), \n",
    "        objective_bound = -2,\n",
    "        cut_oracle      = DematosCutOracle()\n",
    "                                        ) do sp, t\n",
    "\n",
    "```"
   ]
  },
  {
   "cell_type": "code",
   "execution_count": 16,
   "metadata": {
    "slideshow": {
     "slide_type": "subslide"
    }
   },
   "outputs": [
    {
     "name": "stdout",
     "output_type": "stream",
     "text": [
      "SDDP.SDDPModel{SDDP.DefaultValueFunction{SDDP.DematosCutOracle}}\n"
     ]
    }
   ],
   "source": [
    "m_dematos = SDDPModel(\n",
    "                  sense = :Min,          \n",
    "                 stages = 5,             \n",
    "                 solver = ClpSolver(),\n",
    "           risk_measure = Expectation(), \n",
    "        objective_bound = -2,\n",
    "        cut_oracle      = DematosCutOracle()\n",
    "                                        ) do sp, t\n",
    "    \n",
    "    # the state\n",
    "    @state(sp, 0 <= x <= 1, x0 == 0.5)\n",
    "    \n",
    "    # the control\n",
    "    @variable(sp, 0 <= u <= 0.5)\n",
    "    \n",
    "    # the noise (and dynamics)\n",
    "    @scenario(sp, omega = linspace(0, 0.3, 10), x == x0 + u - omega)\n",
    "    \n",
    "    # the objective\n",
    "    stageobjective!(sp, (sin(3 * t) - 1) * u)\n",
    "    \n",
    "end\n",
    "println(typeof(m_dematos))"
   ]
  },
  {
   "cell_type": "code",
   "execution_count": 17,
   "metadata": {
    "slideshow": {
     "slide_type": "subslide"
    }
   },
   "outputs": [
    {
     "name": "stdout",
     "output_type": "stream",
     "text": [
      "\n",
      "Final bound is -1.4720242628387088 (Expectation bound was -1.471).\n",
      "\n",
      "Percentage of discovered cuts kept in first stage 25.0%\n"
     ]
    }
   ],
   "source": [
    "srand(1111)\n",
    "status = solve(m_dematos,\n",
    "    max_iterations = 20,\n",
    "    time_limit     = 600, \n",
    "    cut_selection_frequency = 5,\n",
    "    simulation     = MonteCarloSimulation(\n",
    "                        frequency = 5,\n",
    "                        min       = 10,\n",
    "                        step      = 10,\n",
    "                        max       = 100,\n",
    "                        termination = false\n",
    "                    ),\n",
    "    print_level=0\n",
    ")\n",
    "\n",
    "# Check bound is correct\n",
    "println(\"\\nFinal bound is $(SDDP.getbound(m_dematos)) (Expectation bound was -1.471).\")\n",
    "\n",
    "c = SDDP.valueoracle(SDDP.getsubproblem(m_dematos, 1, 1)).cutmanager\n",
    "\n",
    "println(\"\\nPercentage of discovered cuts kept in first stage $(100 * length(SDDP.validcuts(c)) / length(c.cuts))%\")"
   ]
  },
  {
   "cell_type": "markdown",
   "metadata": {
    "slideshow": {
     "slide_type": "subslide"
    }
   },
   "source": [
    "    -------------------------------------------------------------------------------\n",
    "                          SDDP Solver. © Oscar Dowson, 2017.\n",
    "    -------------------------------------------------------------------------------\n",
    "        Solver:\n",
    "            Serial solver\n",
    "        Model:\n",
    "            Stages:         5\n",
    "            States:         1\n",
    "            Subproblems:    5\n",
    "            Value Function: Default\n",
    "    -------------------------------------------------------------------------------\n",
    "                  Objective              |  Cut  Passes    Simulations   Total    \n",
    "          Expected        Bound   % Gap  |   #     Time     #    Time    Time     \n",
    "    -------------------------------------------------------------------------------\n",
    "           -1.359         -1.743         |     1    0.1      0    0.0    0.1 \n",
    "           -0.943         -1.594         |     2    0.1      0    0.0    0.1 \n",
    "           -1.518         -1.530         |     3    0.1      0    0.0    0.1 \n",
    "           -1.557         -1.502         |     4    0.1      0    0.0    0.2 \n",
    "      -1.492    -1.443    -1.485   -0.5  |     5    0.2    100    0.0    0.3 \n",
    "           -1.462         -1.483         |     6    0.2    100    0.0    0.3 \n",
    "           -1.753         -1.478         |     7    0.2    100    0.0    0.3 \n",
    "           -1.562         -1.476         |     8    0.2    100    0.0    0.3 \n",
    "           -1.438         -1.475         |     9    0.2    100    0.0    0.3 \n",
    "      -1.515    -1.438    -1.474   -2.8  |    10    0.2    200    0.1    0.4 \n",
    "           -1.620         -1.474         |    11    0.2    200    0.1    0.4 \n",
    "           -1.653         -1.473         |    12    0.2    200    0.1    0.4 \n",
    "           -1.445         -1.473         |    13    0.2    200    0.1    0.4 \n",
    "           -1.629         -1.473         |    14    0.2    200    0.1    0.4 \n",
    "      -1.491    -1.421    -1.473   -1.3  |    15    0.2    300    0.2    0.5 \n",
    "           -1.080         -1.473         |    16    0.2    300    0.2    0.5 \n",
    "           -1.613         -1.472         |    17    0.2    300    0.2    0.5 \n",
    "           -1.684         -1.472         |    18    0.2    300    0.2    0.5 \n",
    "           -0.980         -1.472         |    19    0.2    300    0.2    0.5 \n",
    "      -1.505    -1.431    -1.472   -2.2  |    20    0.2    400    0.2    0.5 \n",
    "    -------------------------------------------------------------------------------\n",
    "        Statistics:\n",
    "            Iterations:         20\n",
    "            Termination Status: max_iterations\n",
    "    -------------------------------------------------------------------------------\n",
    "\n",
    "    Final bound is -1.4720242628387088 (Expectation bound was -1.471).\n",
    "\n",
    "    Percentage of discovered cuts kept in first stage 25.0%"
   ]
  },
  {
   "cell_type": "markdown",
   "metadata": {
    "slideshow": {
     "slide_type": "slide"
    }
   },
   "source": [
    "# Asyncronous Solver\n",
    "\n",
    "We parallelise by farming out a new instance of the SDDPModel to all slave processors. \n",
    "\n",
    "Slaves perform iterations independently, and asyncronously share cuts between themselves.\n",
    "\n",
    "```julia\n",
    "solve(m,\n",
    "    solve_type = Serial()\n",
    "    # or\n",
    "    solve_type = Asyncronous()\n",
    ")\n",
    "```"
   ]
  },
  {
   "cell_type": "markdown",
   "metadata": {
    "slideshow": {
     "slide_type": "slide"
    }
   },
   "source": [
    "# Markov Uncertainty\n",
    "\n",
    "```julia\n",
    "# Transition[last index, current_index] = probability\n",
    "Transition = Array{Float64, 2}[\n",
    "    [1.0],\n",
    "    [0.5 0.5],\n",
    "    [0.25 0.75; 0.75 0.25],\n",
    "    [0.25 0.75; 0.75 0.25],\n",
    "    [0.25 0.75; 0.75 0.25]\n",
    "]\n",
    "```"
   ]
  },
  {
   "cell_type": "code",
   "execution_count": 18,
   "metadata": {
    "slideshow": {
     "slide_type": "subslide"
    }
   },
   "outputs": [
    {
     "name": "stdout",
     "output_type": "stream",
     "text": [
      "SDDP.SDDPModel{SDDP.DefaultValueFunction{SDDP.DematosCutOracle}}\n"
     ]
    }
   ],
   "source": [
    "Transition = Array{Float64, 2}[\n",
    "    [1.0]',\n",
    "    [0.5 0.5],\n",
    "    [0.25 0.75; 0.75 0.25],\n",
    "    [0.25 0.75; 0.75 0.25],\n",
    "    [0.25 0.75; 0.75 0.25]\n",
    "]\n",
    "\n",
    "m_markov = SDDPModel(\n",
    "                  sense = :Min,          \n",
    "                 stages = 5,             \n",
    "                 solver = ClpSolver(),\n",
    "        objective_bound = -10,\n",
    "        # A vector of transition matrices. One for each stage\n",
    "      markov_transition = Transition\n",
    "                                        # markov_state will go from 1, 2, ..., S\n",
    "                                        ) do sp, t, markov_state\n",
    "    @state(sp, 0 <= x <= 1, x0 == 0.5)\n",
    "    @variable(sp, 0 <= u <= 0.5)\n",
    "    @scenario(sp, omega = linspace(0, 0.3, 10), x == x0 + u - omega)\n",
    "\n",
    "    # the objective\n",
    "    stageobjective!(sp, (sin(3 * t) - 0.75 * markov_state) * u)\n",
    "\n",
    "end\n",
    "println(typeof(m_dematos))"
   ]
  },
  {
   "cell_type": "code",
   "execution_count": 19,
   "metadata": {
    "slideshow": {
     "slide_type": "subslide"
    }
   },
   "outputs": [
    {
     "name": "stdout",
     "output_type": "stream",
     "text": [
      "-------------------------------------------------------------------------------\n",
      "                      SDDP Solver. © Oscar Dowson, 2017.\n",
      "-------------------------------------------------------------------------------\n",
      "    Solver:\n",
      "        Serial solver\n",
      "    Model:\n",
      "        Stages:         5\n",
      "        States:         1\n",
      "        Subproblems:    9\n",
      "        Value Function: Default\n",
      "-------------------------------------------------------------------------------\n",
      "              Objective              |  Cut  Passes    Simulations   Total    \n",
      "      Expected        Bound   % Gap  |   #     Time     #    Time    Time     \n",
      "-------------------------------------------------------------------------------\n",
      "       -1.614         -1.907         |     1    0.0      0    0.0    0.0 \n",
      "       -1.935         -1.698         |     2    0.0      0    0.0    0.0 \n",
      "       -1.592         -1.688         |     3    0.0      0    0.0    0.0 \n",
      "       -2.135         -1.646         |     4    0.0      0    0.0    0.0 \n",
      "       -1.707         -1.644         |     5    0.1      0    0.0    0.1 \n",
      "       -1.339         -1.640         |     6    0.1      0    0.0    0.1 \n",
      "       -1.987         -1.639         |     7    0.1      0    0.0    0.1 \n",
      "       -1.545         -1.639         |     8    0.1      0    0.0    0.1 \n",
      "       -1.948         -1.637         |     9    0.1      0    0.0    0.1 \n",
      "       -1.128         -1.634         |    10    0.1      0    0.0    0.1 \n",
      "-------------------------------------------------------------------------------\n",
      "    Statistics:\n",
      "        Iterations:         10\n",
      "        Termination Status: max_iterations\n",
      "-------------------------------------------------------------------------------\n",
      "Final bound is -1.634417972667261.\n"
     ]
    }
   ],
   "source": [
    "status = solve(m_markov,\n",
    "    max_iterations = 10\n",
    ")\n",
    "\n",
    "# Check bound is correct\n",
    "println(\"Final bound is $(SDDP.getbound(m_markov)).\")"
   ]
  },
  {
   "cell_type": "markdown",
   "metadata": {
    "slideshow": {
     "slide_type": "slide"
    }
   },
   "source": [
    "# [Many Examples](https://github.com/odow/SDDP.jl/tree/master/examples)"
   ]
  },
  {
   "cell_type": "markdown",
   "metadata": {
    "slideshow": {
     "slide_type": "slide"
    }
   },
   "source": [
    "# Extensions\n",
    "\n",
    "The code is extensible. It's possible to add new features. Risk measures, cut managers, etc.\n"
   ]
  },
  {
   "cell_type": "markdown",
   "metadata": {
    "slideshow": {
     "slide_type": "subslide"
    }
   },
   "source": [
    "# SDDiP\n",
    "\n",
    "[@lkapelevich](https://github.com/lkapelevich) is currently writing a Lagrangian solver for SDDiP. It turns out to be a trivial extension and everything \"just works\". "
   ]
  },
  {
   "cell_type": "markdown",
   "metadata": {
    "slideshow": {
     "slide_type": "slide"
    }
   },
   "source": [
    "# Going Forward\n",
    "\n",
    "1. It needs documentation;\n",
    "2. It needs a bit of a refactor and a tidy;\n",
    "3. I need to understand the differences better between libraries."
   ]
  },
  {
   "cell_type": "markdown",
   "metadata": {
    "slideshow": {
     "slide_type": "subslide"
    }
   },
   "source": [
    "### Cut Managers\n",
    "\n",
    " + Common \"cut\" type\n",
    " + Common API\n",
    "     + Store cut\n",
    "     + Store state\n",
    "     + Get valid cuts\n"
   ]
  },
  {
   "cell_type": "markdown",
   "metadata": {
    "slideshow": {
     "slide_type": "subslide"
    }
   },
   "source": [
    "### Risk Measures\n",
    " + Common API.\n",
    " ```\n",
    "     modifyprobabilty!(measure::AbstractRiskMeasure, new_probabilities, old_probabilities, objectives, sense)\n",
    " ```"
   ]
  },
  {
   "cell_type": "markdown",
   "metadata": {
    "slideshow": {
     "slide_type": "subslide"
    }
   },
   "source": [
    "### SDP\n",
    "\n",
    "Take a look at [DynamicProgramming.jl](https://github.com/odow/DynamicProgramming.jl/).\n",
    "\n",
    "It's not well tested or documented, but it has a nice syntax. Links in with the Javascript visualisation."
   ]
  }
 ],
 "metadata": {
  "celltoolbar": "Slideshow",
  "kernelspec": {
   "display_name": "Julia 0.6.0-rc2",
   "language": "julia",
   "name": "julia-0.6"
  },
  "language_info": {
   "file_extension": ".jl",
   "mimetype": "application/julia",
   "name": "julia",
   "version": "0.6.0"
  }
 },
 "nbformat": 4,
 "nbformat_minor": 1
}
